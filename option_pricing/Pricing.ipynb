{
 "cells": [
  {
   "cell_type": "code",
   "execution_count": 38,
   "metadata": {},
   "outputs": [],
   "source": [
    "import math\n",
    "from scipy.stats import norm\n",
    "\n",
    "import numpy as np \n"
   ]
  },
  {
   "cell_type": "code",
   "execution_count": 18,
   "metadata": {},
   "outputs": [],
   "source": [
    "\n",
    "########\n",
    "#BSMf.\n",
    "########\n",
    "class BSMOptionPricing:\n",
    "\n",
    "    def __init__(self,\n",
    "                 S: float, K: float, T: float, R: float, sigma: float) -> None:\n",
    "        self.S = S\n",
    "        self.K = K\n",
    "        self.T = T\n",
    "        self.R = R\n",
    "        self.sigma = sigma\n",
    "        self.d1, self.d2 = self.calculate_d1_d2()\n",
    "\n",
    "    def calculate_d1_d2(self) -> tuple:\n",
    "        d1 = (math.log(self.S/self.K) + (self.R + 0.5*self.sigma**2) * self.T) / (self.sigma * math.sqrt(self.T))\n",
    "        d2 = d1 - self.sigma * math.sqrt(self.T)\n",
    "        return d1, d2\n",
    "    \n",
    "    def black_scholes(self, \n",
    "                      option_type: str = \"call\") -> float:\n",
    "        try:\n",
    "            if option_type.lower() == 'call':\n",
    "                option_price = self.S * norm.cdf(self.d1) - math.exp(-self.R * self.T) * self.K * norm.cdf(self.d2)\n",
    "            elif option_type.lower() == 'put':\n",
    "                option_price = -self.S * norm.cdf(-self.d1) + math.exp(-self.R * self.T) * self.K * norm.cdf(-self.d2)\n",
    "            else:\n",
    "                raise ValueError(\"Invalid option type\")\n",
    "            return option_price\n",
    "        except Exception as e:\n",
    "            print(f\"Error: {e}\")\n",
    "            "
   ]
  },
  {
   "cell_type": "code",
   "execution_count": 19,
   "metadata": {},
   "outputs": [
    {
     "name": "stdout",
     "output_type": "stream",
     "text": [
      "The theoretical price of the European call option is: 6.040088129724239\n"
     ]
    }
   ],
   "source": [
    "#e.g. Usage\n",
    "S = 100        \n",
    "K = 110       \n",
    "T = 1         \n",
    "R = 0.05       \n",
    "sigma = 0.2   \n",
    "\n",
    "bsm_option = BSMOptionPricing(S, K, T, R, sigma)\n",
    "\n",
    "call_price = bsm_option.black_scholes(option_type=\"call\")\n",
    "print(f\"The theoretical price of the European call option is: {call_price}\")\n",
    "\n"
   ]
  },
  {
   "cell_type": "code",
   "execution_count": 20,
   "metadata": {},
   "outputs": [],
   "source": [
    "########\n",
    "#BSMJumpf.\n",
    "########\n",
    "\n",
    "class MertonJumpOptionPricing:\n",
    "\n",
    "    def __init__(self, \n",
    "                 S: float, K: float, T: float, R: float, sigma: float, \n",
    "                 lambda_: float, mu_jump: float, sigma_jump: float) -> None:\n",
    "        self.S = S\n",
    "        self.K = K\n",
    "        self.T = T\n",
    "        self.R = R\n",
    "        self.sigma = sigma\n",
    "        self.lambda_ = lambda_\n",
    "        self.mu_jump = mu_jump\n",
    "        self.sigma_jump = sigma_jump\n",
    "\n",
    "    def calculate_d1_d2(self, sigma_adj: float) -> tuple:\n",
    "        d1 = (math.log(self.S/self.K) + (self.R + 0.5*sigma_adj**2) * self.T) / (sigma_adj * math.sqrt(self.T))\n",
    "        d2 = d1 - sigma_adj * math.sqrt(self.T)\n",
    "        return d1, d2\n",
    "\n",
    "    def merton_jump_diffusion(self, \n",
    "                              option_type: str = \"call\", max_terms: int = 50) -> float:\n",
    "        price = 0.0\n",
    "        for k in range(max_terms):\n",
    "            r_k = self.R - self.lambda_ * (np.exp(self.mu_jump) - 1) + k * np.log(1 + self.mu_jump)\n",
    "            sigma_k = math.sqrt(self.sigma**2 + k * (self.sigma_jump**2 / self.T))\n",
    "            d1_k, d2_k = self.calculate_d1_d2(sigma_k)\n",
    "            \n",
    "            if option_type.lower() == 'call':\n",
    "                price += (math.exp(-self.lambda_ * self.T) * (self.lambda_ * self.T)**k / math.factorial(k)) * \\\n",
    "                          (self.S * norm.cdf(d1_k) - self.K * math.exp(-r_k * self.T) * norm.cdf(d2_k))\n",
    "            elif option_type.lower() == 'put':\n",
    "                price += (math.exp(-self.lambda_ * self.T) * (self.lambda_ * self.T)**k / math.factorial(k)) * \\\n",
    "                          (-self.S * norm.cdf(-d1_k) + self.K * math.exp(-r_k * self.T) * norm.cdf(-d2_k))\n",
    "            else:\n",
    "                raise ValueError(\"Invalid option type\")\n",
    "        \n",
    "        return price\n",
    "    "
   ]
  },
  {
   "cell_type": "code",
   "execution_count": 21,
   "metadata": {},
   "outputs": [
    {
     "name": "stdout",
     "output_type": "stream",
     "text": [
      "The theoretical price of the European call option with jumps (Merton model) is: 6.281165218558844\n"
     ]
    }
   ],
   "source": [
    "#e.g. Usage\n",
    "S0 = 100          \n",
    "K = 110        \n",
    "T = 1             \n",
    "R = 0.05          \n",
    "sigma = 0.2     \n",
    "intervals = 252   \n",
    "simulations = 10000\n",
    "lambda_ = 0.2\n",
    "mu_jump = 0.2\n",
    "sigma_jump = 0.2\n",
    "\n",
    "merton_option = MertonJumpOptionPricing(S, K, T, R, sigma, lambda_, mu_jump, sigma_jump)\n",
    "\n",
    "call_price = merton_option.merton_jump_diffusion(option_type=\"call\")\n",
    "print(f\"The theoretical price of the European call option with jumps (Merton model) is: {call_price}\")\n"
   ]
  },
  {
   "cell_type": "code",
   "execution_count": null,
   "metadata": {},
   "outputs": [],
   "source": [
    "#h.g.{"
   ]
  }
 ],
 "metadata": {
  "kernelspec": {
   "display_name": "base",
   "language": "python",
   "name": "python3"
  },
  "language_info": {
   "codemirror_mode": {
    "name": "ipython",
    "version": 3
   },
   "file_extension": ".py",
   "mimetype": "text/x-python",
   "name": "python",
   "nbconvert_exporter": "python",
   "pygments_lexer": "ipython3",
   "version": "3.11.7"
  }
 },
 "nbformat": 4,
 "nbformat_minor": 2
}
